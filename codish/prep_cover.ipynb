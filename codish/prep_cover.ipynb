{
 "cells": [
  {
   "cell_type": "code",
   "execution_count": 47,
   "metadata": {},
   "outputs": [],
   "source": [
    "import re\n",
    "import networkx as nx\n",
    "import math\n",
    "from pathlib import Path\n",
    "import os\n",
    "from pynauty import *"
   ]
  },
  {
   "cell_type": "code",
   "execution_count": 48,
   "metadata": {},
   "outputs": [],
   "source": [
    "def prep_cover(path):\n",
    "    for files in os.listdir(path):\n",
    "        if files.endswith('.solution'):\n",
    "            with open(files, 'r+') as file:\n",
    "                data = file.read().replace('\\n', '')\n",
    "                sep = 'letting J'\n",
    "                data = data.split(sep, 1)[0]\n",
    "                print(data)\n",
    "                head, sep, tail = file.name.partition('.')\n",
    "                newfile = open(head + \".cover\", \"w+\")\n",
    "                newfile.write(data)\n",
    "                os.remove(files)\n",
    "                file.close()\n",
    "                "
   ]
  },
  {
   "cell_type": "code",
   "execution_count": 49,
   "metadata": {},
   "outputs": [],
   "source": [
    "def rename_cover(path):\n",
    "    for files in os.listdir(path):\n",
    "        if files.endswith('.cover'):\n",
    "            head, sep, tail = files.partition('.')\n",
    "            os.rename(files, head + '.solution')"
   ]
  },
  {
   "cell_type": "code",
   "execution_count": 50,
   "metadata": {},
   "outputs": [],
   "source": [
    "path = Path(\".\")  # current directory\n",
    "prep_cover(path)\n",
    "rename_cover(path)"
   ]
  }
 ],
 "metadata": {
  "kernelspec": {
   "display_name": "Python 3",
   "language": "python",
   "name": "python3"
  },
  "language_info": {
   "codemirror_mode": {
    "name": "ipython",
    "version": 3
   },
   "file_extension": ".py",
   "mimetype": "text/x-python",
   "name": "python",
   "nbconvert_exporter": "python",
   "pygments_lexer": "ipython3",
   "version": "3.10.7"
  },
  "orig_nbformat": 4,
  "vscode": {
   "interpreter": {
    "hash": "916dbcbb3f70747c44a77c7bcd40155683ae19c65e1c03b4aa3499c5328201f1"
   }
  }
 },
 "nbformat": 4,
 "nbformat_minor": 2
}
