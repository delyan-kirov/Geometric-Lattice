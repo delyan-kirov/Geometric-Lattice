{
 "cells": [
  {
   "cell_type": "code",
   "execution_count": 33,
   "metadata": {},
   "outputs": [],
   "source": [
    "import re\n",
    "import networkx as nx\n",
    "import math\n",
    "from pathlib import Path\n",
    "import os\n",
    "from pynauty import *"
   ]
  },
  {
   "cell_type": "code",
   "execution_count": 34,
   "metadata": {},
   "outputs": [],
   "source": [
    "def make_graph(graph_data):\n",
    "    n = int(math.sqrt(len(graph_data)))\n",
    "    g = Graph(len(graph_data))\n",
    "    for i in range(len(graph_data)):\n",
    "        if graph_data[i] == \"1\":\n",
    "            right = i % n\n",
    "            left = int((i - (i % n)) / n)\n",
    "            g.connect_vertex(left, [right])\n",
    "    return g"
   ]
  },
  {
   "cell_type": "code",
   "execution_count": 35,
   "metadata": {},
   "outputs": [],
   "source": [
    "def create_graph_data(files, count):\n",
    "    with open(files, \"r\") as file:\n",
    "        print(\"opening solution from solver\")\n",
    "        cover = file.read()\n",
    "        graph_data = \"\"\n",
    "\n",
    "        # finding pattern\n",
    "        pattern = re.compile(r\"--> (\\d+)\")\n",
    "        for match in pattern.finditer(cover):\n",
    "            number = match.group(1)\n",
    "            graph_data = \"\".join((graph_data, number))\n",
    "        graph = make_graph(graph_data)\n",
    "        head, sep, tail = file.name.partition('.')\n",
    "        with open (head + '.txt', 'w') as f:\n",
    "            f.write(graph_data)\n",
    "            print(head)\n",
    "        f.close\n",
    "        file.close()\n",
    "    pass"
   ]
  },
  {
   "cell_type": "code",
   "execution_count": 36,
   "metadata": {},
   "outputs": [],
   "source": [
    "def find_iso_class (path):\n",
    "    iso_class = [\"stopper\"]\n",
    "    for files in os.listdir(path):\n",
    "     if files.endswith('.txt'):\n",
    "        head, sep, tail = files.partition('.')\n",
    "        iso_class.append(head + '.solution')\n",
    "        for files_copy in os.listdir(path):\n",
    "            if files_copy.endswith('.txt'):\n",
    "                with open (files_copy) as file_1:\n",
    "                    graph_data_1 = file_1.read()\n",
    "                file_1.close\n",
    "                \n",
    "                with open (files) as file_2:\n",
    "                    graph_data_2 = file_2.read()\n",
    "                file_2.close\n",
    "                \n",
    "                if (files != files_copy) and (isomorphic(make_graph(graph_data_1), make_graph(graph_data_2))):\n",
    "                    head, sep, tail = files_copy.partition('.')\n",
    "                    iso_class.append(head + '.solution')\n",
    "        iso_class.append(\"stopper\")\n",
    "    return iso_class"
   ]
  },
  {
   "cell_type": "code",
   "execution_count": 37,
   "metadata": {},
   "outputs": [],
   "source": [
    "def delete_iso (iso_class, path):\n",
    "    keep_class = []\n",
    "    garbage = []\n",
    "    for i in range(len(iso_class) - 1):\n",
    "        if (iso_class[i] == \"stopper\") and (iso_class[i+1] not in garbage):\n",
    "            keep_class.append(iso_class[i+1])\n",
    "        garbage.append(iso_class[i])\n",
    "            \n",
    "    for files in os.listdir(path):\n",
    "     if ((files not in keep_class) and (files in iso_class)) or (files.endswith('.txt')):\n",
    "        print(\"files to be removed \" + files)\n",
    "        os.remove(files)"
   ]
  },
  {
   "cell_type": "code",
   "execution_count": 38,
   "metadata": {},
   "outputs": [],
   "source": [
    "def prep_cover(path):\n",
    "    for files in os.listdir(path):\n",
    "        if files.endswith('.solution'):\n",
    "            with open(files, 'r+') as file:\n",
    "                data = file.read().replace('\\n', '')\n",
    "                sep = 'letting J'\n",
    "                data = data.split(sep, 1)[0]\n",
    "                print(data)\n",
    "                head, sep, tail = file.name.partition('.')\n",
    "                newfile = open(head + \".cover\", \"w+\")\n",
    "                newfile.write(data)\n",
    "                os.remove(files)\n",
    "                file.close()\n",
    "                "
   ]
  },
  {
   "cell_type": "code",
   "execution_count": 39,
   "metadata": {},
   "outputs": [],
   "source": [
    "def rename_cover(path):\n",
    "    for files in os.listdir(path):\n",
    "        if files.endswith('.cover'):\n",
    "            head, sep, tail = files.partition('.')\n",
    "            os.rename(files, head + '.solution')"
   ]
  },
  {
   "cell_type": "code",
   "execution_count": 40,
   "metadata": {},
   "outputs": [],
   "source": [
    "# Main\n",
    "path = Path(\".\")  # current directory\n",
    "prep_cover(path)\n",
    "rename_cover(path)\n",
    "extension = \".solution\"\n",
    "count = 0\n",
    "for files in os.listdir(path):\n",
    "    count = count + 1\n",
    "    if files.endswith(extension):\n",
    "        create_graph_data(files, count)\n",
    "        \n",
    "iso_class = find_iso_class(path)\n",
    "delete_iso(iso_class, path)"
   ]
  }
 ],
 "metadata": {
  "kernelspec": {
   "display_name": "Python 3",
   "language": "python",
   "name": "python3"
  },
  "language_info": {
   "codemirror_mode": {
    "name": "ipython",
    "version": 3
   },
   "file_extension": ".py",
   "mimetype": "text/x-python",
   "name": "python",
   "nbconvert_exporter": "python",
   "pygments_lexer": "ipython3",
   "version": "3.10.7"
  },
  "orig_nbformat": 4,
  "vscode": {
   "interpreter": {
    "hash": "916dbcbb3f70747c44a77c7bcd40155683ae19c65e1c03b4aa3499c5328201f1"
   }
  }
 },
 "nbformat": 4,
 "nbformat_minor": 2
}
